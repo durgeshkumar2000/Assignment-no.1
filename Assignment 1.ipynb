{
 "cells": [
  {
   "cell_type": "code",
   "execution_count": 4,
   "id": "3ca191d3-6b0b-454c-be1b-18c4dc737dac",
   "metadata": {},
   "outputs": [],
   "source": [
    "#Q5 \n",
    "def vowel_count(str) :\n",
    "    count = 0\n",
    "    vowel = set(\"aeiouAEIOU\")\n",
    "    for alphabet in str :\n",
    "        if alphabet in vowel :\n",
    "            count = count + 1\n",
    "    print(\"No. of vowels : \",count)"
   ]
  },
  {
   "cell_type": "code",
   "execution_count": 5,
   "id": "ae68e0c1-d3b3-45d4-bc0f-fed4c19206a3",
   "metadata": {},
   "outputs": [],
   "source": [
    "str = \"I want to become a data scientist\""
   ]
  },
  {
   "cell_type": "code",
   "execution_count": 6,
   "id": "85803934-740b-45c0-8292-e01ba7c1bfdc",
   "metadata": {},
   "outputs": [
    {
     "name": "stdout",
     "output_type": "stream",
     "text": [
      "No. of vowels :  12\n"
     ]
    }
   ],
   "source": [
    "vowel_count(str)"
   ]
  },
  {
   "cell_type": "code",
   "execution_count": 2,
   "id": "ea85784d-6197-4c0b-9b46-209fa5b230fe",
   "metadata": {},
   "outputs": [
    {
     "name": "stdout",
     "output_type": "stream",
     "text": [
      "[1, 2, 3, 4, 5, 6, 7, 8, 9, 10, 11, 12, 13, 14, 15, 16, 17, 18, 19, 20, 21, 22, 23, 24, 25, 26, 27, 28, 29, 30, 31, 32, 33, 34, 35, 36, 37, 38, 39, 40, 41, 42, 43, 44, 45, 46, 47, 48, 49, 50, 51, 52, 53, 54, 55, 56, 57, 58, 59, 60, 61, 62, 63, 64, 65, 66, 67, 68, 69, 70, 71, 72, 73, 74, 75, 76, 77, 78, 79, 80, 81, 82, 83, 84, 85, 86, 87, 88, 89, 90, 91, 92, 93, 94, 95, 96, 97, 98, 99, 100]\n",
      "[1, 8, 27, 64, 125, 216, 343, 512, 729, 1000, 1331, 1728, 2197, 2744, 3375, 4096, 4913, 5832, 6859, 8000, 9261, 10648, 12167, 13824, 15625, 17576, 19683, 21952, 24389, 27000, 29791, 32768, 35937, 39304, 42875, 46656, 50653, 54872, 59319, 64000, 68921, 74088, 79507, 85184, 91125, 97336, 103823, 110592, 117649, 125000, 132651, 140608, 148877, 157464, 166375, 175616, 185193, 195112, 205379, 216000, 226981, 238328, 250047, 262144, 274625, 287496, 300763, 314432, 328509, 343000, 357911, 373248, 389017, 405224, 421875, 438976, 456533, 474552, 493039, 512000, 531441, 551368, 571787, 592704, 614125, 636056, 658503, 681472, 704969, 729000, 753571, 778688, 804357, 830584, 857375, 884736, 912673, 941192, 970299, 1000000]\n",
      "8\n",
      "64\n",
      "125\n",
      "216\n",
      "512\n",
      "1000\n",
      "1728\n",
      "2744\n",
      "3375\n",
      "4096\n",
      "5832\n",
      "8000\n",
      "10648\n",
      "13824\n",
      "15625\n",
      "17576\n",
      "21952\n",
      "27000\n",
      "32768\n",
      "39304\n",
      "42875\n",
      "46656\n",
      "54872\n",
      "64000\n",
      "74088\n",
      "85184\n",
      "91125\n",
      "97336\n",
      "110592\n",
      "125000\n",
      "140608\n",
      "157464\n",
      "166375\n",
      "175616\n",
      "195112\n",
      "216000\n",
      "238328\n",
      "262144\n",
      "274625\n",
      "287496\n",
      "314432\n",
      "343000\n",
      "373248\n",
      "405224\n",
      "421875\n",
      "438976\n",
      "474552\n",
      "512000\n",
      "551368\n",
      "592704\n",
      "614125\n",
      "636056\n",
      "681472\n",
      "729000\n",
      "778688\n",
      "830584\n",
      "857375\n",
      "884736\n",
      "941192\n",
      "1000000\n"
     ]
    }
   ],
   "source": [
    "#Q4\n",
    "numbers = list(range(1,101))\n",
    "print(numbers)\n",
    "result = []\n",
    "for i in numbers :\n",
    "    result.append(i*i*i)\n",
    "print(result)\n",
    "l1 = []\n",
    "for j in result :\n",
    "    if (j%4==0 or j%5==0):\n",
    "        l1.append(j)\n",
    "        print(j)"
   ]
  },
  {
   "cell_type": "code",
   "execution_count": 9,
   "id": "7603ab06-c556-4058-88a9-65717491f01a",
   "metadata": {},
   "outputs": [
    {
     "name": "stdin",
     "output_type": "stream",
     "text": [
      "enter a unit 310\n"
     ]
    },
    {
     "name": "stdout",
     "output_type": "stream",
     "text": [
      "4250.0\n"
     ]
    }
   ],
   "source": [
    "#Q3\n",
    "units = int(input(\"enter a unit\"))\n",
    "def calculatebill(units) :\n",
    "    if(units<=100) :\n",
    "        return units*4.5;\n",
    "    elif(units<=200) :\n",
    "        return 100*4.5+(units-100)*6;\n",
    "    elif(units<=300) :\n",
    "        return 100*4.5+100*6+(units-200)*10;\n",
    "    elif(units>300):\n",
    "        return 100*4.5+100*6+300*10+(units-300)*20;\n",
    "    return 0;\n",
    "\n",
    "print(calculatebill(units))"
   ]
  },
  {
   "cell_type": "code",
   "execution_count": 11,
   "id": "4549d081-aad5-4d72-b0a0-ced5cd7ee3b2",
   "metadata": {},
   "outputs": [
    {
     "name": "stdin",
     "output_type": "stream",
     "text": [
      "enter a number 10\n"
     ]
    },
    {
     "name": "stdout",
     "output_type": "stream",
     "text": [
      "The sum is  55\n"
     ]
    }
   ],
   "source": [
    "#Q2 \n",
    "num = int(input(\"enter a number\"))\n",
    "if num < 0 :\n",
    "     print(\"Enter a positive number\")\n",
    "else :\n",
    "    sum = 0\n",
    "    while(num>0) :\n",
    "        sum += num\n",
    "        num -=1\n",
    "print(\"The sum is \",sum)\n",
    "             \n",
    "           \n",
    "          \n",
    "    \n"
   ]
  },
  {
   "cell_type": "code",
   "execution_count": 15,
   "id": "7e53a9c2-4361-4603-87fb-cfaeeb5a918d",
   "metadata": {},
   "outputs": [
    {
     "name": "stdin",
     "output_type": "stream",
     "text": [
      "enter a number 10\n"
     ]
    },
    {
     "name": "stdout",
     "output_type": "stream",
     "text": [
      "The pro is  3628800\n"
     ]
    }
   ],
   "source": [
    "num = int(input(\"enter a number\"))\n",
    "if num < 0 :\n",
    "     print(\"Enter a positive number\")\n",
    "else :\n",
    "    pro = 1\n",
    "    while(num>0) :\n",
    "        pro *= num\n",
    "        num -=1\n",
    "print(\"The pro is \",pro)\n",
    "             "
   ]
  },
  {
   "cell_type": "code",
   "execution_count": 19,
   "id": "7cb63c61-570d-4e89-8bb7-f8596211f68d",
   "metadata": {},
   "outputs": [
    {
     "name": "stdout",
     "output_type": "stream",
     "text": [
      "55\n"
     ]
    }
   ],
   "source": [
    "lst = list(range(1,11))\n",
    "sum = 0\n",
    "for i in range(1,11) :\n",
    "  \n",
    "    sum += i\n",
    "    i +=1\n",
    "print(sum)"
   ]
  },
  {
   "cell_type": "code",
   "execution_count": 20,
   "id": "9290913b-037f-43f5-844b-be1cb4c98ae8",
   "metadata": {},
   "outputs": [
    {
     "name": "stdout",
     "output_type": "stream",
     "text": [
      "3628800\n"
     ]
    }
   ],
   "source": [
    "lst = list(range(1,11))\n",
    "pro = 1\n",
    "for i in range(1,11) :\n",
    "  \n",
    "    pro *= i\n",
    "    i +=1\n",
    "print(pro)"
   ]
  },
  {
   "cell_type": "code",
   "execution_count": 21,
   "id": "c8c12a4e-e831-4726-96a6-258478f8d1b3",
   "metadata": {},
   "outputs": [],
   "source": [
    "#Q1 When you have a block of code which you want to repeat a fixed number of times."
   ]
  },
  {
   "cell_type": "code",
   "execution_count": 22,
   "id": "47179132-82ec-4bcc-887c-21fcac13128f",
   "metadata": {},
   "outputs": [],
   "source": [
    "#For loop is used when the number of iterations is already known. While loop is used when the number of iterations is already Unknown"
   ]
  },
  {
   "cell_type": "code",
   "execution_count": 27,
   "id": "dbcaa3d7-8b39-4d3e-83a1-6f86e1e6ff1a",
   "metadata": {},
   "outputs": [
    {
     "name": "stdout",
     "output_type": "stream",
     "text": [
      "2432902008176640000\n"
     ]
    }
   ],
   "source": [
    "lst = list(range(1,21))\n",
    "pro = 1\n",
    "for i in range(1,21) :\n",
    "  \n",
    "    pro *= i\n",
    "    i +=1\n",
    "print(pro)"
   ]
  },
  {
   "cell_type": "code",
   "execution_count": 28,
   "id": "11c8a6b4-ba52-49f7-aabf-f7f75f0d8cd9",
   "metadata": {},
   "outputs": [
    {
     "name": "stdin",
     "output_type": "stream",
     "text": [
      "enter a number 20\n"
     ]
    },
    {
     "name": "stdout",
     "output_type": "stream",
     "text": [
      "The pro is  2432902008176640000\n"
     ]
    }
   ],
   "source": [
    "num = int(input(\"enter a number\"))\n",
    "if num < 0 :\n",
    "     print(\"Enter a positive number\")\n",
    "else :\n",
    "    pro = 1\n",
    "    while(num>0) :\n",
    "        pro *= num\n",
    "        num -=1\n",
    "print(\"The pro is \",pro)\n",
    "             \n"
   ]
  },
  {
   "cell_type": "code",
   "execution_count": null,
   "id": "99cbae12-7166-453e-96eb-4602eedc51d7",
   "metadata": {},
   "outputs": [],
   "source": []
  }
 ],
 "metadata": {
  "kernelspec": {
   "display_name": "Python 3 (ipykernel)",
   "language": "python",
   "name": "python3"
  },
  "language_info": {
   "codemirror_mode": {
    "name": "ipython",
    "version": 3
   },
   "file_extension": ".py",
   "mimetype": "text/x-python",
   "name": "python",
   "nbconvert_exporter": "python",
   "pygments_lexer": "ipython3",
   "version": "3.10.8"
  }
 },
 "nbformat": 4,
 "nbformat_minor": 5
}
